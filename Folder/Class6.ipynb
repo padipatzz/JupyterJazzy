{
 "cells": [
  {
   "cell_type": "code",
   "execution_count": 5,
   "metadata": {},
   "outputs": [
    {
     "name": "stdout",
     "output_type": "stream",
     "text": [
      "0\n",
      "1\n",
      "2\n",
      "3\n",
      "4\n"
     ]
    }
   ],
   "source": [
    "###################\n",
    "## EXAMPLE: strings \n",
    "###################\n",
    "#hi = \"hello there\"\n",
    "#name = \"ana\"\n",
    "#greet = hi + name  \n",
    "#print(greet)\n",
    "#greeting = hi + \" \" + name\n",
    "#print(greeting)\n",
    "#silly = hi + (\" \" + name)*3\n",
    "#print(silly)\n",
    "\n",
    "####################\n",
    "## EXAMPLE: output \n",
    "####################\n",
    "#x = 1\n",
    "#print(x)\n",
    "#x_str = str(x)\n",
    "#print(\"my fav number is\", x, \".\", \"x=\", x)\n",
    "#print(\"my fav number is\", x_str + \".\" + \"x=\" + x_str)\n",
    "#print(\"my fav number is\" + x_str + \".\" + \"x=\" + x_str)\n",
    "\n",
    "\n",
    "####################\n",
    "## EXAMPLE: input\n",
    "####################\n",
    "#text = input(\"Type anything... \")\n",
    "#print(5*text)\n",
    "#num = int(input(\"Type a number... \"))\n",
    "#print(5*num)\n",
    "\n",
    "\n",
    "####################\n",
    "## EXAMPLE: conditionals/branching \n",
    "####################\n",
    "#x = float(input(\"Enter a number for x: \"))\n",
    "#y = float(input(\"Enter a number for y: \"))\n",
    "#if x == y:\n",
    "#    print(\"x and y are equal\")\n",
    "#    if y != 0:\n",
    "#        print(\"therefore, x / y is\", x/y)\n",
    "#elif x < y:\n",
    "#    print(\"x is smaller\")\n",
    "#elif x > y:\n",
    "#    print(\"y is smaller\")\n",
    "#print(\"thanks!\")\n",
    "\n",
    "\n",
    "\n",
    "####################\n",
    "## EXAMPLE: remainder \n",
    "####################\n",
    "#num = int(input(\"Enter a number: \"))\n",
    "#if num % 2 == 0:\n",
    "#    print(\"number is even\")\n",
    "#else:\n",
    "#    print(\"number is odd\")\n",
    "\n",
    "\n",
    "# ###################\n",
    "# # EXAMPLE: while loops \n",
    "# # Try expanding this code to show a sad face if you go right\n",
    "# # twice and flip the table any more times than that. \n",
    "# # Hint: use a counter\n",
    "# ###################\n",
    "# n = input(\"You are in the Lost Forest\\n****************\\n****************\\n :)\\n****************\\n****************\\nGo left or right? \")\n",
    "# while n == \"right\" or n == \"Right\":\n",
    "#    n = input(\"You are in the Lost Forest\\n****************\\n******       ***\\n  (╯°□°）╯︵ ┻━┻\\n****************\\n****************\\nGo left or right? \")\n",
    "# print(\"\\nYou got out of the Lost Forest!\\n\\o/\")\n",
    "\n",
    "\n",
    "\n",
    "# n = 0\n",
    "# while n < 5:\n",
    "#    print(n)\n",
    "#    n = n+1\n",
    "\n",
    "\n",
    "####################\n",
    "## EXAMPLE: for loops\n",
    "####################\n",
    "#for n in range(5):\n",
    "#    print(n)\n",
    "#\n",
    "#mysum = 0\n",
    "#for i in range(10):\n",
    "#    mysum += i\n",
    "#print(mysum)\n",
    "#\n",
    "#mysum = 0\n",
    "#for i in range(7, 10):\n",
    "#    mysum += i\n",
    "#print(mysum)\n",
    "#\n",
    "#mysum = 0\n",
    "#for i in range(5, 11, 2):\n",
    "#    mysum += i\n",
    "#    if mysum == 5:\n",
    "#        break\n",
    "#        mysum += 1\n",
    "#print(mysum)\n",
    "\n",
    "\n",
    "\n",
    "# ###################\n",
    "# # EXAMPLE: perfect squares\n",
    "# ###################\n",
    "# ans = 0\n",
    "# neg_flag = False\n",
    "# x = int(input(\"Enter an integer: \"))\n",
    "# if x < 0:\n",
    "#    neg_flag = True\n",
    "# while ans**2 < x:\n",
    "#    ans = ans + 1\n",
    "# if ans**2 == x:\n",
    "#    print(\"Square root of\", x, \"is\", ans)\n",
    "# else:\n",
    "#    print(x, \"is not a perfect square\")\n",
    "#    if neg_flag:\n",
    "#        print(\"Just checking... did you mean\", -x, \"?\")\n",
    "\n",
    "\n",
    "####################\n",
    "## TEST YOURSELF!\n",
    "## Modify the perfect squares example to print \n",
    "## imaginary perfect sqrts if given a negative num.\n",
    "####################"
   ]
  },
  {
   "cell_type": "code",
   "execution_count": 26,
   "metadata": {},
   "outputs": [
    {
     "name": "stdout",
     "output_type": "stream",
     "text": [
      "i= 5 mysum= 5\n",
      "i= 6 mysum= 11\n",
      "i= 7 mysum= 18\n",
      "i= 8 mysum= 26\n",
      "i= 9 mysum= 35\n",
      "35\n"
     ]
    }
   ],
   "source": [
    "mysum= 0\n",
    "for i in range(5,10,1):\n",
    "    mysum+= i     #mySum = mySum+1\n",
    "    print('i=',i,'mysum=',mysum)\n",
    "\n",
    "print(mysum)"
   ]
  },
  {
   "cell_type": "code",
   "execution_count": 24,
   "metadata": {},
   "outputs": [
    {
     "name": "stdout",
     "output_type": "stream",
     "text": [
      "i= 6 mysum= 5\n",
      "i= 7 mysum= 11\n",
      "i= 8 mysum= 18\n",
      "i= 9 mysum= 26\n",
      "i= 10 mysum= 35\n"
     ]
    }
   ],
   "source": [
    "i=5\n",
    "mysum=0\n",
    "while i<10:\n",
    "    mysum+= i     #mySum = mySum+1\n",
    "    i=i+1  \n",
    "    print('i=',i,'mysum=',mysum)"
   ]
  },
  {
   "cell_type": "code",
   "execution_count": null,
   "metadata": {},
   "outputs": [],
   "source": [
    "Input = eval(input(\"Insert number to check if it prime number or not: \"))\n",
    "isNotPrime=0\n",
    "for i in range (2,Input):\n",
    "    if (Input%i)==0:\n",
    "        isNotPrime=1\n",
    "if isNotPrime==1:\n",
    "    print(Input,'is not prime number')\n",
    "else: \n",
    "    print(Input,'is prime number')"
   ]
  },
  {
   "cell_type": "code",
   "execution_count": 28,
   "metadata": {},
   "outputs": [
    {
     "data": {
      "text/plain": [
       "6"
      ]
     },
     "execution_count": 28,
     "metadata": {},
     "output_type": "execute_result"
    }
   ],
   "source": [
    "\n"
   ]
  },
  {
   "cell_type": "code",
   "execution_count": null,
   "metadata": {},
   "outputs": [],
   "source": []
  }
 ],
 "metadata": {
  "kernelspec": {
   "display_name": "Python 3",
   "language": "python",
   "name": "python3"
  },
  "language_info": {
   "codemirror_mode": {
    "name": "ipython",
    "version": 3
   },
   "file_extension": ".py",
   "mimetype": "text/x-python",
   "name": "python",
   "nbconvert_exporter": "python",
   "pygments_lexer": "ipython3",
   "version": "3.8.5"
  }
 },
 "nbformat": 4,
 "nbformat_minor": 4
}
